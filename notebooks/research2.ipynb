{
 "cells": [
  {
   "cell_type": "markdown",
   "metadata": {},
   "source": [
    "# TODOLIST"
   ]
  },
  {
   "cell_type": "markdown",
   "metadata": {},
   "source": [
    "1) multy-query\n",
    "2) bm25retriever\n",
    "3) rag-fusion\n",
    "4) chain of thouths (decomposition?)\n",
    "5) \"+\" few shot\n",
    "6) Hyde (не дорого ли?)\n",
    "7) Query structuring for metadata filters?\n",
    "8) raptor"
   ]
  },
  {
   "cell_type": "code",
   "execution_count": 2,
   "metadata": {},
   "outputs": [],
   "source": []
  },
  {
   "cell_type": "code",
   "execution_count": 1,
   "metadata": {},
   "outputs": [],
   "source": [
    "# def multy_doc(files):\n",
    "#     all_chunks = []\n",
    "#     for uploaded_file in files:\n",
    "#         if uploaded_file.name.endswith('.pdf'):\n",
    "#             loader = PyPDFLoader(uploaded_file)\n",
    "#             documents = loader.load()\n",
    "#         elif uploaded_file.name.endswith('.docx'):\n",
    "#             loader = Docx2txtLoader(uploaded_file)\n",
    "#             documents = loader.load()\n",
    "#         text_splitter = RecursiveCharacterTextSplitter(chunk_size=900, chunk_overlap=300)\n",
    "#         chunks = text_splitter.split_documents(documents)\n",
    "#         all_chunks.extend(chunks)\n",
    "#     return all_chunks"
   ]
  },
  {
   "cell_type": "code",
   "execution_count": null,
   "metadata": {},
   "outputs": [],
   "source": [
    "docs =[]\n",
    "with tempfile.TemporaryDirectory() as tmpdir:\n",
    "\n",
    "    upfiles = st.file_uploader(\"Выберите файлы\", type=['pdf'], accept_multiple_files= True)\n",
    "    if upfiles:\n",
    "        file_paths = []\n",
    "    \n",
    "        for uploaded in upfiles:\n",
    "            file_path = os.path.join(tmpdir, uploaded.nameb)\n",
    "            with open(file_path, 'wb') as f:\n",
    "                f.write(uploaded.getbuffer())\n",
    "            file_paths.append(file_paths)\n",
    "\n",
    "        selected_file = st.selectbox(\"Выберите файлы\", options=[os.path.basename(path) for path in file_paths])\n",
    "        if selected_file:\n",
    "            selected_file_path = [path for path in file_path if os.path.basename(path) == selected_file][0]\n",
    "            if selected_file.endswith(\".pdf\"):\n",
    "                loader = PyPDFLoader(selected_file_path)\n",
    "                documents = loader.load()\n",
    "                text_splitter = RecursiveCharacterTextSplitter(chunk_size=900, chunk_overlap=450)\n",
    "                splitted_data = text_splitter.split_documents(documents)\n",
    "                docs.extend(splitted_data)\n",
    "\n",
    "st.write(docs)"
   ]
  }
 ],
 "metadata": {
  "kernelspec": {
   "display_name": ".venv",
   "language": "python",
   "name": "python3"
  },
  "language_info": {
   "codemirror_mode": {
    "name": "ipython",
    "version": 3
   },
   "file_extension": ".py",
   "mimetype": "text/x-python",
   "name": "python",
   "nbconvert_exporter": "python",
   "pygments_lexer": "ipython3",
   "version": "3.12.3"
  }
 },
 "nbformat": 4,
 "nbformat_minor": 2
}
